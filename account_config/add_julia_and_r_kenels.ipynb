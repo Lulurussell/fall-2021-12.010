{
 "cells": [
  {
   "cell_type": "markdown",
   "id": "aaef6529-d98e-4920-8e20-48f33a0a50d9",
   "metadata": {},
   "source": [
    "### Notebook with commands to add Julia and R kernels to an account\n",
    "\n",
    "This is designed to be run once in a new account."
   ]
  },
  {
   "cell_type": "code",
   "execution_count": null,
   "id": "494222b0-8bba-44de-ad99-23642d84bddd",
   "metadata": {},
   "outputs": [],
   "source": [
    "# Setup Julia kernel in my account\n",
    "# ================================\n",
    "#\n",
    "# Note - if you execute this cell more than once it will leave things unchanged after the first\n",
    "# execution.\n",
    "#\n",
    "!julia -e 'using Pkg; Pkg.add(\"IJulia\");Pkg.update();'"
   ]
  },
  {
   "cell_type": "code",
   "execution_count": null,
   "id": "87e3746e-87ca-4837-9cbd-805c55e9dfde",
   "metadata": {},
   "outputs": [],
   "source": [
    "# Set up R kernel in my account\n",
    "# =============================\n",
    "#\n",
    "# Note - if you execute this cell more than once the first command will show a prompt asking\n",
    "# if you want to remove the existing environemnt. If this happens press the kernel \"stop\"\n",
    "# button (suqare symbol at the top of the notebook) and the first command will be skipped.\n",
    "# The second and third commands will execute, but they should not change anything.\n",
    "#\n",
    "! conda create -n renv\n",
    "! . /opt/tljh/user/bin/activate renv ; conda install -y r-irkernel\n",
    "! . /opt/tljh/user/bin/activate renv ; Rscript -e \"IRkernel::installspec()\" "
   ]
  },
  {
   "cell_type": "code",
   "execution_count": null,
   "id": "38db9fb4-b026-44c9-91da-a27de2ec54b5",
   "metadata": {},
   "outputs": [],
   "source": []
  }
 ],
 "metadata": {
  "kernelspec": {
   "display_name": "Python 3 (ipykernel)",
   "language": "python",
   "name": "python3"
  },
  "language_info": {
   "codemirror_mode": {
    "name": "ipython",
    "version": 3
   },
   "file_extension": ".py",
   "mimetype": "text/x-python",
   "name": "python",
   "nbconvert_exporter": "python",
   "pygments_lexer": "ipython3",
   "version": "3.7.11"
  }
 },
 "nbformat": 4,
 "nbformat_minor": 5
}
