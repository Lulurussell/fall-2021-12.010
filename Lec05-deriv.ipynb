{
 "cells": [
  {
   "cell_type": "markdown",
   "id": "4318b339-6649-4d5d-a0b6-66bf12768a36",
   "metadata": {},
   "source": [
    "### Numerical differentiation\n",
    "\n",
    "**Symbolic differentiation** uses algebra and symbolic rules to find explicit formula for a derivative of a function, $f(x)$, at some value, $x$,\n",
    "\n",
    " $$ \\frac{df(x)}{dx} \\equiv \\lim_{h \\to 0} \\frac{f(x+h)-f(x)}{h} $$\n",
    " \n",
    "**Numerical differentiation** instead says lets allow h to stay finite (but _small_) and approximate the derivative as\n",
    "\n",
    " $$ \\frac{df(x)}{dx}  \\approx \\frac{f(x+h)-f(x)}{h} $$\n"
   ]
  },
  {
   "cell_type": "code",
   "execution_count": null,
   "id": "8bfebc2c-8383-4e62-bec3-1c09323ec373",
   "metadata": {},
   "outputs": [],
   "source": [
    "#\n",
    "# Try a numerical derivative for x^2\n",
    "#\n",
    "x=2;\n",
    "h=0.001;\n",
    "print( ( (x+h)**2.-x**2. )/h )"
   ]
  },
  {
   "cell_type": "markdown",
   "id": "a926e77f-bbc4-4d4e-9c57-2da270cc0614",
   "metadata": {
    "tags": []
   },
   "source": [
    "###### Lets think about how accurate the derivative is"
   ]
  },
  {
   "cell_type": "code",
   "execution_count": null,
   "id": "b39f80d0-b6df-499f-a99d-2a1fd6f426d6",
   "metadata": {},
   "outputs": [],
   "source": [
    "# First lets define a function for f, its true derivative and a numerical derivative\n",
    "def f(x):\n",
    "    return x**2\n",
    "\n",
    "def a_dfdx(x):\n",
    "    return 2*x\n",
    "\n",
    "def n_dfdx(x,h):\n",
    "    return (f(x+h)-f(x))/h"
   ]
  },
  {
   "cell_type": "code",
   "execution_count": null,
   "id": "b21b0778-4b2f-462c-9cfa-2209d65a1f23",
   "metadata": {},
   "outputs": [],
   "source": [
    "# Now lets define some different sizes of h using a \"generator\" expression\n",
    "h0=0.1\n",
    "hvals=[h0**n for n in [1,2,3,4,5,6,7,8,9,10] ]"
   ]
  },
  {
   "cell_type": "code",
   "execution_count": null,
   "id": "200eafd7-eebd-48e4-a205-3bed9aea05d2",
   "metadata": {},
   "outputs": [],
   "source": [
    "x=2\n",
    "n_deriv=[n_dfdx(x,h) for h in hvals ]\n",
    "a_deriv=a_dfdx(x)"
   ]
  },
  {
   "cell_type": "code",
   "execution_count": null,
   "id": "e5f0ad94-8e7b-4994-9c20-8b4008b4bcb3",
   "metadata": {},
   "outputs": [],
   "source": [
    "import matplotlib.pyplot as plt"
   ]
  },
  {
   "cell_type": "code",
   "execution_count": null,
   "id": "55c2b309-ebe4-4877-8f33-feed5268e04f",
   "metadata": {},
   "outputs": [],
   "source": [
    "plt.plot(hvals,n_deriv-a_deriv)"
   ]
  },
  {
   "cell_type": "code",
   "execution_count": null,
   "id": "e9ff4992-7f59-445c-98de-fa75000e17e9",
   "metadata": {},
   "outputs": [],
   "source": [
    "import numpy as np\n",
    "n_deriv_np=np.array(n_deriv)"
   ]
  },
  {
   "cell_type": "code",
   "execution_count": null,
   "id": "a5261f3d-0a38-4a12-b5f0-23e56479697b",
   "metadata": {},
   "outputs": [],
   "source": [
    "plt.plot(np.log10(np.abs(n_deriv_np-a_deriv)),np.log10(hvals),'o');\n",
    "plt.xlim(0,-10)\n",
    "plt.xlabel(\"log10(error)\")\n",
    "plt.ylabel(\"log10(h)\")"
   ]
  },
  {
   "cell_type": "code",
   "execution_count": null,
   "id": "cf62199c-d56b-49d9-bcb9-f227cadb8d75",
   "metadata": {},
   "outputs": [],
   "source": []
  }
 ],
 "metadata": {
  "kernelspec": {
   "display_name": "Python 3 (ipykernel)",
   "language": "python",
   "name": "python3"
  },
  "language_info": {
   "codemirror_mode": {
    "name": "ipython",
    "version": 3
   },
   "file_extension": ".py",
   "mimetype": "text/x-python",
   "name": "python",
   "nbconvert_exporter": "python",
   "pygments_lexer": "ipython3",
   "version": "3.7.11"
  }
 },
 "nbformat": 4,
 "nbformat_minor": 5
}
