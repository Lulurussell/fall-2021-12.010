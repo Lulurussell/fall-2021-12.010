{
 "cells": [
  {
   "cell_type": "markdown",
   "id": "4318b339-6649-4d5d-a0b6-66bf12768a36",
   "metadata": {},
   "source": [
    "### Numerical differentiation\n",
    "\n",
    "**Symbolic differentiation** uses algebra and symbolic rules to find explicit formula for a derivative of a function, $f(x)$, at some value, $x$,\n",
    "\n",
    " $$ \\frac{df(x)}{dx} \\equiv \\lim_{h \\to 0} \\frac{f(x+h)-f(x)}{h} $$\n",
    " \n",
    "**Numerical differentiation** instead says lets allow h to stay finite (but _small_) and approximate the derivative as\n",
    "\n",
    " $$ \\frac{df(x)}{dx}  \\approx \\frac{f(x+h)-f(x)}{h} $$\n"
   ]
  },
  {
   "cell_type": "code",
   "execution_count": 1,
   "id": "8bfebc2c-8383-4e62-bec3-1c09323ec373",
   "metadata": {},
   "outputs": [
    {
     "name": "stdout",
     "output_type": "stream",
     "text": [
      "4.000999999999699\n"
     ]
    }
   ],
   "source": [
    "#\n",
    "# Try a numerical derivative for x^2\n",
    "#\n",
    "x=2;\n",
    "h=0.001;\n",
    "print( ( (x+h)**2.-x**2. )/h )"
   ]
  },
  {
   "cell_type": "markdown",
   "id": "a926e77f-bbc4-4d4e-9c57-2da270cc0614",
   "metadata": {
    "tags": []
   },
   "source": [
    "###### Lets think about how accurate the derivative is"
   ]
  },
  {
   "cell_type": "code",
   "execution_count": 2,
   "id": "b39f80d0-b6df-499f-a99d-2a1fd6f426d6",
   "metadata": {},
   "outputs": [],
   "source": [
    "# First lets define a function for f, its true derivative and a numerical derivative\n",
    "def f(x):\n",
    "    return x**2\n",
    "\n",
    "def a_dfdx(x):\n",
    "    return 2*x\n",
    "\n",
    "def n_dfdx(x,h):\n",
    "    return (f(x+h)-f(x))/h"
   ]
  },
  {
   "cell_type": "code",
   "execution_count": 3,
   "id": "b21b0778-4b2f-462c-9cfa-2209d65a1f23",
   "metadata": {},
   "outputs": [],
   "source": [
    "# Now lets define some different sizes of h using a \"generator\" expression\n",
    "h0=0.1\n",
    "hvals=[h0**n for n in [1,2,3,4,5,6,7,8,9,10] ]"
   ]
  },
  {
   "cell_type": "code",
   "execution_count": 4,
   "id": "200eafd7-eebd-48e4-a205-3bed9aea05d2",
   "metadata": {},
   "outputs": [],
   "source": [
    "x=2\n",
    "n_deriv=[n_dfdx(x,h) for h in hvals ]\n",
    "a_deriv=a_dfdx(x)"
   ]
  },
  {
   "cell_type": "code",
   "execution_count": 5,
   "id": "e5f0ad94-8e7b-4994-9c20-8b4008b4bcb3",
   "metadata": {},
   "outputs": [],
   "source": [
    "import matplotlib.pyplot as plt"
   ]
  },
  {
   "cell_type": "code",
   "execution_count": 6,
   "id": "55c2b309-ebe4-4877-8f33-feed5268e04f",
   "metadata": {},
   "outputs": [
    {
     "ename": "TypeError",
     "evalue": "unsupported operand type(s) for -: 'list' and 'int'",
     "output_type": "error",
     "traceback": [
      "\u001b[0;31m---------------------------------------------------------------------------\u001b[0m",
      "\u001b[0;31mTypeError\u001b[0m                                 Traceback (most recent call last)",
      "\u001b[0;32m/tmp/ipykernel_328513/3233166601.py\u001b[0m in \u001b[0;36m<module>\u001b[0;34m\u001b[0m\n\u001b[0;32m----> 1\u001b[0;31m \u001b[0mplt\u001b[0m\u001b[0;34m.\u001b[0m\u001b[0mplot\u001b[0m\u001b[0;34m(\u001b[0m\u001b[0mhvals\u001b[0m\u001b[0;34m,\u001b[0m\u001b[0mn_deriv\u001b[0m\u001b[0;34m-\u001b[0m\u001b[0ma_deriv\u001b[0m\u001b[0;34m)\u001b[0m\u001b[0;34m\u001b[0m\u001b[0;34m\u001b[0m\u001b[0m\n\u001b[0m",
      "\u001b[0;31mTypeError\u001b[0m: unsupported operand type(s) for -: 'list' and 'int'"
     ]
    }
   ],
   "source": [
    "plt.plot(hvals,n_deriv-a_deriv)"
   ]
  },
  {
   "cell_type": "code",
   "execution_count": 7,
   "id": "e9ff4992-7f59-445c-98de-fa75000e17e9",
   "metadata": {},
   "outputs": [],
   "source": [
    "import numpy as np\n",
    "n_deriv_np=np.array(n_deriv)"
   ]
  },
  {
   "cell_type": "code",
   "execution_count": 28,
   "id": "a5261f3d-0a38-4a12-b5f0-23e56479697b",
   "metadata": {},
   "outputs": [
    {
     "data": {
      "image/png": "[encoded data removed]",
      "text/plain": [
       "<Figure size 432x288 with 1 Axes>"
      ]
     },
     "metadata": {
      "needs_background": "light"
     },
     "output_type": "display_data"
    }
   ],
   "source": [
    "plt.plot(np.log10(np.abs(n_deriv_np-a_deriv)),np.log10(hvals),'o');\n",
    "plt.xlim(0,-10)\n",
    "plt.xlabel(\"log10(error)\")\n",
    "plt.ylabel(\"log10(h)\");"
   ]
  },
  {
   "cell_type": "markdown",
   "id": "11eea6cd-fe5d-491f-a222-1a4dda711e44",
   "metadata": {},
   "source": [
    "#### What about high-order derivatives\n",
    "e.g. $ \\frac{d^{2}\\phi}{dx^{2}} $ \n",
    "\n",
    "we can create these as derivatives of lower order derivatives\n",
    "\n",
    "e.g. $ \\frac{d^{2}\\phi}{dx^{2}} \\equiv \\frac{d}{dx}\\frac{d\\phi}{dx}$\n",
    "\n",
    "This approach yields one formula for the second derivative\n",
    "\n",
    "$$ \\frac{d^{2}f(x)}{dx^{2}}  \\approx \\frac{f(x-h)+f(x+h)-2f(x)}{h^{2}} $$"
   ]
  },
  {
   "cell_type": "code",
   "execution_count": 19,
   "id": "b5e7a74e-4795-493e-8fa1-c00dd4e28583",
   "metadata": {},
   "outputs": [],
   "source": [
    "# We can try this here\n",
    "def n_d2fdx2(x,h):\n",
    "    return (f(x-h)+f(x+h)-2*f(x))/(h**2)\n",
    "def a_d2fdx2(x):\n",
    "    return 2"
   ]
  },
  {
   "cell_type": "code",
   "execution_count": 26,
   "id": "020538d0-462a-44b9-9a95-b82f636f810d",
   "metadata": {},
   "outputs": [
    {
     "data": {
      "image/png": "[encoded data removed]",
      "text/plain": [
       "<Figure size 432x288 with 1 Axes>"
      ]
     },
     "metadata": {
      "needs_background": "light"
     },
     "output_type": "display_data"
    }
   ],
   "source": [
    "x=2\n",
    "n_deriv2=[n_d2fdx2(x,h) for h in hvals ]\n",
    "n_deriv2_np=np.array(n_deriv2)\n",
    "a_deriv2=a_d2fdx2(x)\n",
    "plt.plot(np.log10(np.abs(n_deriv2_np-a_deriv2)),np.log10(hvals),'o');\n",
    "plt.xlim(0,-14)\n",
    "plt.xlabel(\"log10(error)\")\n",
    "plt.ylabel(\"log10(h)\");"
   ]
  },
  {
   "cell_type": "code",
   "execution_count": 27,
   "id": "43124cbe-9657-4fc8-82c6-04c4458c2441",
   "metadata": {},
   "outputs": [
    {
     "name": "stdout",
     "output_type": "stream",
     "text": [
      "[2.         2.         2.         2.00000017 2.00000017 2.0001778\n",
      " 1.95399252 0.         0.         0.        ]\n"
     ]
    }
   ],
   "source": []
  },
  {
   "cell_type": "code",
   "execution_count": null,
   "id": "1f5bf8ad-deb7-4156-8ae2-59ac1d945847",
   "metadata": {},
   "outputs": [],
   "source": []
  }
 ],
 "metadata": {
  "kernelspec": {
   "display_name": "Python 3 (ipykernel)",
   "language": "python",
   "name": "python3"
  },
  "language_info": {
   "codemirror_mode": {
    "name": "ipython",
    "version": 3
   },
   "file_extension": ".py",
   "mimetype": "text/x-python",
   "name": "python",
   "nbconvert_exporter": "python",
   "pygments_lexer": "ipython3",
   "version": "3.7.11"
  }
 },
 "nbformat": 4,
 "nbformat_minor": 5
}
