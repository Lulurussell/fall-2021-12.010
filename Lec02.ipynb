{
 "cells": [
  {
   "cell_type": "markdown",
   "metadata": {},
   "source": [
    "# Boolean algebra \n",
    "These cells look at various aspects of using Boolean algebra to implement <b>branching</b> structures"
   ]
  },
  {
   "cell_type": "code",
   "execution_count": 1,
   "metadata": {},
   "outputs": [
    {
     "name": "stdout",
     "output_type": "stream",
     "text": [
      "10 does not equal  11\n"
     ]
    }
   ],
   "source": [
    "# Boolean algebra: Simple if statement.  Syntax -- Notice the : at tne the line that \n",
    "a = 11\n",
    "if a == 10:\n",
    "    print('a equals' ,a)\n",
    "else:\n",
    "    print('10 does not equal ',a)\n",
    "\n"
   ]
  }
 ],
 "metadata": {
  "kernelspec": {
   "display_name": "Python 3",
   "language": "python",
   "name": "python3"
  },
  "language_info": {
   "codemirror_mode": {
    "name": "ipython",
    "version": 3
   },
   "file_extension": ".py",
   "mimetype": "text/x-python",
   "name": "python",
   "nbconvert_exporter": "python",
   "pygments_lexer": "ipython3",
   "version": "3.7.4"
  }
 },
 "nbformat": 4,
 "nbformat_minor": 4
}
